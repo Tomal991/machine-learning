{
 "cells": [
  {
   "cell_type": "code",
   "execution_count": 1,
   "id": "a1dafd85",
   "metadata": {},
   "outputs": [],
   "source": [
    "from sklearn.feature_extraction.text import CountVectorizer"
   ]
  },
  {
   "cell_type": "code",
   "execution_count": 3,
   "id": "a60f7d4e",
   "metadata": {},
   "outputs": [],
   "source": [
    "dataset=[\"hey welcome to my course\",\n",
    "        \"I am Intesarul\",\n",
    "        \"I love programming\",\n",
    "        \"machine learning and AI\",]"
   ]
  },
  {
   "cell_type": "code",
   "execution_count": 4,
   "id": "ba1b8f41",
   "metadata": {},
   "outputs": [],
   "source": [
    "cv=CountVectorizer()\n",
    "x=cv.fit_transform(dataset)"
   ]
  },
  {
   "cell_type": "code",
   "execution_count": 6,
   "id": "39e2503d",
   "metadata": {},
   "outputs": [
    {
     "data": {
      "text/plain": [
       "['ai',\n",
       " 'am',\n",
       " 'and',\n",
       " 'course',\n",
       " 'hey',\n",
       " 'intesarul',\n",
       " 'learning',\n",
       " 'love',\n",
       " 'machine',\n",
       " 'my',\n",
       " 'programming',\n",
       " 'to',\n",
       " 'welcome']"
      ]
     },
     "execution_count": 6,
     "metadata": {},
     "output_type": "execute_result"
    }
   ],
   "source": [
    "cv.get_feature_names()"
   ]
  },
  {
   "cell_type": "code",
   "execution_count": 7,
   "id": "9d9c5ebd",
   "metadata": {},
   "outputs": [
    {
     "data": {
      "text/plain": [
       "array([[0, 0, 0, 1, 1, 0, 0, 0, 0, 1, 0, 1, 1],\n",
       "       [0, 1, 0, 0, 0, 1, 0, 0, 0, 0, 0, 0, 0],\n",
       "       [0, 0, 0, 0, 0, 0, 0, 1, 0, 0, 1, 0, 0],\n",
       "       [1, 0, 1, 0, 0, 0, 1, 0, 1, 0, 0, 0, 0]], dtype=int64)"
      ]
     },
     "execution_count": 7,
     "metadata": {},
     "output_type": "execute_result"
    }
   ],
   "source": [
    "x.toarray()"
   ]
  },
  {
   "cell_type": "code",
   "execution_count": null,
   "id": "9784a4e5",
   "metadata": {},
   "outputs": [],
   "source": []
  }
 ],
 "metadata": {
  "kernelspec": {
   "display_name": "Python 3",
   "language": "python",
   "name": "python3"
  },
  "language_info": {
   "codemirror_mode": {
    "name": "ipython",
    "version": 3
   },
   "file_extension": ".py",
   "mimetype": "text/x-python",
   "name": "python",
   "nbconvert_exporter": "python",
   "pygments_lexer": "ipython3",
   "version": "3.8.8"
  }
 },
 "nbformat": 4,
 "nbformat_minor": 5
}
